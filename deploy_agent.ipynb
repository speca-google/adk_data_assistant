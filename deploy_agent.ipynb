{
 "cells": [
  {
   "cell_type": "code",
   "execution_count": null,
   "id": "9cc29332",
   "metadata": {},
   "outputs": [],
   "source": [
    "# Copyright 2025 Google LLC\n",
    "#\n",
    "# Licensed under the Apache License, Version 2.0 (the \"License\");\n",
    "# you may not use this file except in compliance with the License.\n",
    "# You may obtain a copy of the License at\n",
    "#\n",
    "#     http://www.apache.org/licenses/LICENSE-2.0\n",
    "#\n",
    "# Unless required by applicable law or agreed to in writing, software\n",
    "# distributed under the License is distributed on an \"AS IS\" BASIS,\n",
    "# WITHOUT WARRANTIES OR CONDITIONS OF ANY KIND, either express or implied.\n",
    "# See the License for the specific language governing permissions and\n",
    "# limitations under the License."
   ]
  },
  {
   "cell_type": "markdown",
   "id": "2936e58f",
   "metadata": {},
   "source": [
    "# Deploy ADK Agent in AI Engine and Agentspace\n",
    "\n",
    "This notebook provides a step-by-step to deploy the Data Assistant ADK agent on Vertex AI agent engine, and deploy to Agentspace\n",
    "\n",
    "- Import Libraries and Setup env_vars\n",
    "- Package and Deploy Agent on Agent Engine\n",
    "- Deploy on Agentspace"
   ]
  },
  {
   "cell_type": "markdown",
   "id": "2a55e116",
   "metadata": {},
   "source": [
    "### Setup and Config"
   ]
  },
  {
   "cell_type": "code",
   "execution_count": null,
   "id": "20089cc9",
   "metadata": {},
   "outputs": [],
   "source": [
    "# Basic Libraries\n",
    "import os \n",
    "import vertexai\n",
    "\n",
    "# AI Engine on Vertex AI \n",
    "from vertexai import agent_engines\n",
    "\n",
    "# Library for AI Engine with ADK\n",
    "from vertexai.preview import reasoning_engines\n",
    "\n",
    "# To view JSON response formatted \n",
    "import json\n",
    "from IPython.display import JSON\n"
   ]
  },
  {
   "cell_type": "code",
   "execution_count": null,
   "id": "e19876aa",
   "metadata": {},
   "outputs": [],
   "source": [
    "# Load environment variables from data_assistant .env file \n",
    "\n",
    "from dotenv import load_dotenv\n",
    "load_dotenv('./data_assistant/.env')\n",
    "env_vars = {}"
   ]
  },
  {
   "cell_type": "code",
   "execution_count": null,
   "id": "92b59edd",
   "metadata": {},
   "outputs": [],
   "source": [
    "# Load Variables on env_vars dict to be used when creating the Agent\n",
    "\n",
    "env_vars[\"GOOGLE_GENAI_USE_VERTEXAI\"] = os.getenv(\"GOOGLE_GENAI_USE_VERTEXAI\")\n",
    "env_vars[\"GOOGLE_CLOUD_PROJECT\"] = os.getenv(\"GOOGLE_CLOUD_PROJECT\")\n",
    "env_vars[\"GOOGLE_CLOUD_LOCATION\"] = os.getenv(\"GOOGLE_CLOUD_LOCATION\")\n",
    "env_vars[\"GOOGLE_CLOUD_STORAGE_BUCKET\"] = os.getenv(\"GOOGLE_CLOUD_STORAGE_BUCKET\")\n",
    "\n",
    "\n",
    "env_vars[\"BQ_PROJECT_ID\"] = os.getenv(\"BQ_PROJECT_ID\")\n",
    "env_vars[\"BQ_DATASET_ID\"] = os.getenv(\"BQ_DATASET_ID\")\n",
    "env_vars[\"BQ_ROOT_MODEL\"] = os.getenv(\"BQ_ROOT_MODEL\")\n",
    "env_vars[\"BQ_TOOL_MODEL\"] = os.getenv(\"BQ_TOOL_MODEL\")\n",
    "env_vars[\"BQ_LOCATION\"] = os.getenv(\"BQ_LOCATION\")\n",
    "env_vars[\"BQ_METADATA_MODE\"] = os.getenv(\"BQ_METADATA_MODE\")\n",
    "env_vars"
   ]
  },
  {
   "cell_type": "code",
   "execution_count": null,
   "id": "48339111",
   "metadata": {},
   "outputs": [],
   "source": [
    "# Instantiate Vertex AI\n",
    "\n",
    "vertexai.init(\n",
    "    project=env_vars[\"GOOGLE_CLOUD_PROJECT\"],\n",
    "    location=env_vars[\"GOOGLE_CLOUD_LOCATION\"],\n",
    "    staging_bucket=env_vars[\"GOOGLE_CLOUD_STORAGE_BUCKET\"],\n",
    ")"
   ]
  },
  {
   "cell_type": "markdown",
   "id": "d7aa9d34",
   "metadata": {},
   "source": [
    "### Agent ADK Package and Deploy"
   ]
  },
  {
   "cell_type": "code",
   "execution_count": null,
   "id": "fe2d6771",
   "metadata": {},
   "outputs": [],
   "source": [
    "# Importong root_agent from local data_assistant folder\n",
    "from data_assistant.agent import root_agent"
   ]
  },
  {
   "cell_type": "code",
   "execution_count": null,
   "id": "2ad8be79",
   "metadata": {},
   "outputs": [],
   "source": [
    "# Requirements file\n",
    "requirements = [\n",
    "    \"google-cloud-aiplatform[agent_engines,adk]\",\n",
    "    \"cloudpickle\",\n",
    "    \"pydantic\",\n",
    "    \"google-cloud-bigquery\",\n",
    "    \"pandas\",\n",
    "    \"db-dtypes\"\n",
    "]"
   ]
  },
  {
   "cell_type": "code",
   "execution_count": null,
   "id": "2892d8bc",
   "metadata": {},
   "outputs": [],
   "source": [
    "# Extra packages from foder data_assistant\n",
    "extra_packages = [\"data_assistant\"]"
   ]
  },
  {
   "cell_type": "code",
   "execution_count": null,
   "id": "2e931559",
   "metadata": {},
   "outputs": [],
   "source": [
    "# Agent Metadata \n",
    "\n",
    "agent_display_name = \"BQ Data Assistant\"\n",
    "\n",
    "agent_description = \"\"\" Helps the user get data and metadata on BigQuery Dataset \"\"\""
   ]
  },
  {
   "cell_type": "code",
   "execution_count": null,
   "id": "d6c3efb5",
   "metadata": {},
   "outputs": [],
   "source": [
    "# Instantiate the Assistant as an ADK App \n",
    "app = reasoning_engines.AdkApp(\n",
    "    agent=root_agent,\n",
    ")"
   ]
  },
  {
   "cell_type": "code",
   "execution_count": null,
   "id": "ee535ec0",
   "metadata": {},
   "outputs": [],
   "source": [
    "# For testing purposes create a session\n",
    "session = app.create_session(user_id=\"user_1\")\n",
    "session"
   ]
  },
  {
   "cell_type": "code",
   "execution_count": null,
   "id": "f866b120",
   "metadata": {},
   "outputs": [],
   "source": [
    "# Run a simple query\n",
    "for event in app.stream_query(\n",
    "    user_id=\"user_1\",\n",
    "    session_id=session.id,\n",
    "    message=\"Which tables exist in this dataset?\",\n",
    "):\n",
    "    print(event)"
   ]
  },
  {
   "cell_type": "code",
   "execution_count": null,
   "id": "97191f21",
   "metadata": {},
   "outputs": [],
   "source": [
    "json_answer = event['content']['parts'][0]['text']\n",
    "json_answer = json_answer.replace('```json','').replace('```','').replace('\\n','').replace('\\\\n','')\n",
    "\n",
    "JSON(json.loads(json_answer))"
   ]
  },
  {
   "cell_type": "code",
   "execution_count": null,
   "id": "e978a73f",
   "metadata": {},
   "outputs": [],
   "source": [
    "## (OPTIONAL) - Retrieve all existent Agent Engine resource.names (Agents)\n",
    "for agent in agent_engines.list():\n",
    "    print(f\"Agent: {agent.display_name} [{agent.resource_name}] created/updated at: {agent.update_time}\" )"
   ]
  },
  {
   "cell_type": "code",
   "execution_count": null,
   "id": "662128d9",
   "metadata": {},
   "outputs": [],
   "source": [
    "## (OPTIONAL) - Update the agent at the same Agent Resource \n",
    "# agent_engines.update(\n",
    "#     resource_name=remote_agent.resource_name,    # Required.\n",
    "#     agent_engine = app,\n",
    "#     extra_packages=extra_packages,      # Extra packages\n",
    "#     display_name=agent_display_name,    # Display name  \n",
    "#     description=agent_description,      # Description\n",
    "#     env_vars=env_vars \n",
    "# )"
   ]
  },
  {
   "cell_type": "code",
   "execution_count": null,
   "id": "f3aa76bc",
   "metadata": {},
   "outputs": [],
   "source": [
    "# Deploy the Agent on AI Engine (This takes a few minutes)\n",
    "\n",
    "remote_agent = agent_engines.create(\n",
    "    app,                                # The Agente instantiated as ADK agent\n",
    "    requirements=requirements,          # Requirements file\n",
    "    extra_packages=extra_packages,      # Extra packages\n",
    "    display_name=agent_display_name,    # Display name  \n",
    "    description=agent_description,      # Description\n",
    "    env_vars=env_vars                   # Env Vars dict\n",
    ")"
   ]
  },
  {
   "cell_type": "code",
   "execution_count": null,
   "id": "6c662923",
   "metadata": {},
   "outputs": [],
   "source": [
    "# Retrieve ID of Agent Engine\n",
    "remote_agent.resource_name"
   ]
  },
  {
   "cell_type": "code",
   "execution_count": null,
   "id": "ce3c0f69",
   "metadata": {},
   "outputs": [],
   "source": [
    "# Testing Remote Agent\n",
    "session_remote = remote_agent.create_session(user_id=\"user_1\")\n",
    "session_remote['id']"
   ]
  },
  {
   "cell_type": "code",
   "execution_count": null,
   "id": "4bc18e64",
   "metadata": {},
   "outputs": [],
   "source": [
    "# Query on remote agent for test \n",
    "for event in remote_agent.stream_query(\n",
    "    user_id=\"user_1\",\n",
    "    session_id=session_remote['id'],  \n",
    "    message=\"Which tables exist in this dataset?\",\n",
    "):\n",
    "   print(event)"
   ]
  },
  {
   "cell_type": "code",
   "execution_count": null,
   "id": "0f017584",
   "metadata": {},
   "outputs": [],
   "source": [
    "# To view JSON response formatted \n",
    "json_answer = event['content']['parts'][0]['text']\n",
    "json_answer = json_answer.replace('```json','').replace('```','').replace('\\n','').replace('\\\\n','')\n",
    "\n",
    "JSON(json.loads(json_answer))"
   ]
  },
  {
   "cell_type": "markdown",
   "id": "108873ea",
   "metadata": {},
   "source": [
    "### Deploy Agent on Agentspace\n",
    "\n",
    "This is a temporary step, due the official way to do this still working in progress"
   ]
  },
  {
   "cell_type": "code",
   "execution_count": null,
   "id": "ccf7115f",
   "metadata": {},
   "outputs": [],
   "source": [
    "import subprocess\n",
    "import json\n",
    "import requests\n",
    "\n",
    "# The ID of your Google Cloud project.\n",
    "project_id = env_vars[\"GOOGLE_CLOUD_PROJECT\"] \n",
    "\n",
    "# The ID of the Agentspace app (see: https://cloud.google.com/agentspace/agentspace-enterprise/docs/assistant ).\n",
    "app_id = \"\"\n",
    "\n",
    "# The display name of the agent.\n",
    "display_name = \"BQ Data Assistant\"\n",
    "\n",
    "# The description of the agent, displayed on the frontend; it is only for the user’s benefit.\n",
    "description = \"Useful agent to help you find information on BigQuery\"\n",
    "\n",
    "# The description of the agent used by the LLM to route requests to the agent.\n",
    "# Must properly describe what the agent does. Never shown to the user.\n",
    "tool_description = \"The agent can Help the user get data and metadata on BigQuery Dataset\"\n",
    "\n",
    "# The ID of the reasoning engine endpoint where the ADK agent is deployed (Resource.name).\n",
    "adk_deployment_name = \"\" # The remote_agent.resource_name Deployed\n",
    " "
   ]
  },
  {
   "cell_type": "code",
   "execution_count": null,
   "id": "4f05d7b0",
   "metadata": {},
   "outputs": [],
   "source": [
    "# Get the access token from gcloud\n",
    "try:\n",
    "    access_token = subprocess.check_output(\n",
    "        \"gcloud auth print-access-token\", shell=True, text=True\n",
    "    ).strip()\n",
    "except subprocess.CalledProcessError as e:\n",
    "    print(f\"Error getting access token: {e}\")\n",
    "    exit()\n",
    "\n",
    "# API endpoint\n",
    "url = f\"https://discoveryengine.googleapis.com/v1alpha/projects/{project_id}/locations/global/collections/default_collection/engines/{app_id}/assistants/default_assistant/agents\"\n",
    "\n",
    "# Headers\n",
    "headers = {\n",
    "    \"Authorization\": f\"Bearer {access_token}\",\n",
    "    \"Content-Type\": \"application/json\",\n",
    "    \"X-Goog-User-Project\": project_id,\n",
    "}\n",
    "\n",
    "# Data payload\n",
    "data = {\n",
    "    \"displayName\": display_name,\n",
    "    \"description\": description,\n",
    "    \"adk_agent_definition\": {\n",
    "        \"tool_settings\": {\"tool_description\": tool_description},\n",
    "        \"provisioned_reasoning_engine\": {\"reasoning_engine\": adk_deployment_name},\n",
    "    },\n",
    "}"
   ]
  },
  {
   "cell_type": "code",
   "execution_count": null,
   "id": "a5a4d080",
   "metadata": {},
   "outputs": [],
   "source": [
    "# Make the POST request\n",
    "response = requests.post(url, headers=headers, data=json.dumps(data))\n",
    "\n",
    "# Print the response\n",
    "print(f\"Status Code: {response.status_code}\")\n",
    "print(f\"Response JSON: \\n\")\n",
    "JSON(response.json())"
   ]
  }
 ],
 "metadata": {
  "kernelspec": {
   "display_name": ".venv",
   "language": "python",
   "name": "python3"
  },
  "language_info": {
   "codemirror_mode": {
    "name": "ipython",
    "version": 3
   },
   "file_extension": ".py",
   "mimetype": "text/x-python",
   "name": "python",
   "nbconvert_exporter": "python",
   "pygments_lexer": "ipython3",
   "version": "3.11.10"
  }
 },
 "nbformat": 4,
 "nbformat_minor": 5
}
