{
 "cells": [
  {
   "cell_type": "code",
   "execution_count": 1,
   "id": "9cc29332",
   "metadata": {},
   "outputs": [],
   "source": [
    "# Copyright 2025 Google LLC\n",
    "#\n",
    "# Licensed under the Apache License, Version 2.0 (the \"License\");\n",
    "# you may not use this file except in compliance with the License.\n",
    "# You may obtain a copy of the License at\n",
    "#\n",
    "#     http://www.apache.org/licenses/LICENSE-2.0\n",
    "#\n",
    "# Unless required by applicable law or agreed to in writing, software\n",
    "# distributed under the License is distributed on an \"AS IS\" BASIS,\n",
    "# WITHOUT WARRANTIES OR CONDITIONS OF ANY KIND, either express or implied.\n",
    "# See the License for the specific language governing permissions and\n",
    "# limitations under the License."
   ]
  },
  {
   "cell_type": "markdown",
   "id": "2936e58f",
   "metadata": {},
   "source": [
    "# Deploy ADK Agent in AI Engine and Agentspace\n",
    "\n",
    "This notebook provides a step-by-step to deploy the Data Assistant ADK agent on Vertex AI agent engine, and deploy to Agentspace\n",
    "\n",
    "- Import Libraries and Setup env_vars\n",
    "- Package and Deploy Agent on Agent Engine\n",
    "- Deploy on Agentspace"
   ]
  },
  {
   "cell_type": "markdown",
   "id": "2a55e116",
   "metadata": {},
   "source": [
    "### Setup and Config"
   ]
  },
  {
   "cell_type": "code",
   "execution_count": 2,
   "id": "20089cc9",
   "metadata": {},
   "outputs": [],
   "source": [
    "# Basic Libraries\n",
    "import os \n",
    "import vertexai\n",
    "\n",
    "# AI Engine on Vertex AI \n",
    "from vertexai import agent_engines\n",
    "\n",
    "# Library for AI Engine with ADK\n",
    "from vertexai.preview import reasoning_engines\n",
    "\n",
    "# To view JSON response formatted \n",
    "import json\n",
    "from IPython.display import JSON\n"
   ]
  },
  {
   "cell_type": "code",
   "execution_count": 3,
   "id": "e19876aa",
   "metadata": {},
   "outputs": [],
   "source": [
    "# Load environment variables from data_assistant .env file \n",
    "\n",
    "from dotenv import load_dotenv\n",
    "load_dotenv('./data_assistant/.env')\n",
    "env_vars = {}"
   ]
  },
  {
   "cell_type": "code",
   "execution_count": 4,
   "id": "92b59edd",
   "metadata": {},
   "outputs": [
    {
     "data": {
      "text/plain": [
       "{'GOOGLE_GENAI_USE_VERTEXAI': 'True',\n",
       " 'GOOGLE_CLOUD_PROJECT_ID': 'speca-sandbox',\n",
       " 'GOOGLE_CLOUD_LOCATION_AGENT': 'us-central1',\n",
       " 'GOOGLE_CLOUD_STORAGE_BUCKET': 'gs://speca-data-assistant-staging',\n",
       " 'BQ_PROJECT_ID': 'speca-sandbox',\n",
       " 'BQ_DATASET_ID': 'legaldata',\n",
       " 'BQ_ROOT_MODEL': 'gemini-2.5-flash-preview-04-17',\n",
       " 'BQ_TOOL_MODEL': 'gemini-2.0-flash-001',\n",
       " 'BQ_LOCATION': 'us',\n",
       " 'BQ_METADATA_MODE': 'OFF'}"
      ]
     },
     "execution_count": 4,
     "metadata": {},
     "output_type": "execute_result"
    }
   ],
   "source": [
    "# Load Variables on env_vars dict to be used when creating the Agent\n",
    "\n",
    "env_vars[\"GOOGLE_GENAI_USE_VERTEXAI\"] = os.getenv(\"GOOGLE_GENAI_USE_VERTEXAI\")\n",
    "env_vars[\"GOOGLE_CLOUD_PROJECT_ID\"] = os.getenv(\"GOOGLE_CLOUD_PROJECT_ID\")\n",
    "env_vars[\"GOOGLE_CLOUD_LOCATION_AGENT\"] = os.getenv(\"GOOGLE_CLOUD_LOCATION_AGENT\")\n",
    "env_vars[\"GOOGLE_CLOUD_STORAGE_BUCKET\"] = os.getenv(\"GOOGLE_CLOUD_STORAGE_BUCKET\")\n",
    "\n",
    "\n",
    "env_vars[\"BQ_PROJECT_ID\"] = os.getenv(\"BQ_PROJECT_ID\")\n",
    "env_vars[\"BQ_DATASET_ID\"] = os.getenv(\"BQ_DATASET_ID\")\n",
    "env_vars[\"BQ_ROOT_MODEL\"] = os.getenv(\"BQ_ROOT_MODEL\")\n",
    "env_vars[\"BQ_TOOL_MODEL\"] = os.getenv(\"BQ_TOOL_MODEL\")\n",
    "env_vars[\"BQ_LOCATION\"] = os.getenv(\"BQ_LOCATION\")\n",
    "env_vars[\"BQ_METADATA_MODE\"] = os.getenv(\"BQ_METADATA_MODE\")\n",
    "env_vars"
   ]
  },
  {
   "cell_type": "code",
   "execution_count": 6,
   "id": "48339111",
   "metadata": {},
   "outputs": [],
   "source": [
    "# Instantiate Vertex AI\n",
    "\n",
    "vertexai.init(\n",
    "    project=env_vars[\"GOOGLE_CLOUD_PROJECT_ID\"],\n",
    "    location=env_vars[\"GOOGLE_CLOUD_LOCATION_AGENT\"],\n",
    "    staging_bucket=env_vars[\"GOOGLE_CLOUD_STORAGE_BUCKET\"],\n",
    ")"
   ]
  },
  {
   "cell_type": "markdown",
   "id": "d7aa9d34",
   "metadata": {},
   "source": [
    "### Agent ADK Package and Deploy"
   ]
  },
  {
   "cell_type": "code",
   "execution_count": 7,
   "id": "fe2d6771",
   "metadata": {},
   "outputs": [],
   "source": [
    "# Importong root_agent from local data_assistant folder\n",
    "from data_assistant.agent import root_agent"
   ]
  },
  {
   "cell_type": "code",
   "execution_count": 43,
   "id": "2ad8be79",
   "metadata": {},
   "outputs": [],
   "source": [
    "# Requirements file\n",
    "requirements = [\n",
    "    \"google-cloud-aiplatform[agent_engines]\",\n",
    "    \"google-adk==0.5.0\",\n",
    "    \"cloudpickle\",\n",
    "    \"pydantic\",\n",
    "    \"google-cloud-bigquery\",\n",
    "    \"pandas\",\n",
    "    \"db-dtypes\"\n",
    "]"
   ]
  },
  {
   "cell_type": "code",
   "execution_count": 44,
   "id": "2892d8bc",
   "metadata": {},
   "outputs": [],
   "source": [
    "# Extra packages from foder data_assistant\n",
    "extra_packages = [\"data_assistant\"]"
   ]
  },
  {
   "cell_type": "code",
   "execution_count": 45,
   "id": "2e931559",
   "metadata": {},
   "outputs": [],
   "source": [
    "# Agent Metadata \n",
    "\n",
    "agent_display_name = \"Legal Data Agent\"\n",
    "\n",
    "agent_description = \"\"\"Você é um assistente especializado em consultar dados de processos judiciais uma base de dados de processos.\"\"\""
   ]
  },
  {
   "cell_type": "code",
   "execution_count": 46,
   "id": "d6c3efb5",
   "metadata": {},
   "outputs": [],
   "source": [
    "# Instantiate the Assistant as an ADK App \n",
    "app = reasoning_engines.AdkApp(\n",
    "    agent=root_agent,\n",
    ")"
   ]
  },
  {
   "cell_type": "code",
   "execution_count": 47,
   "id": "ee535ec0",
   "metadata": {},
   "outputs": [
    {
     "data": {
      "text/plain": [
       "Session(id='06c35a27-880f-46ba-b36c-856bc0c5c019', app_name='default-app-name', user_id='user_1', state={}, events=[], last_update_time=1747870265.646553)"
      ]
     },
     "execution_count": 47,
     "metadata": {},
     "output_type": "execute_result"
    }
   ],
   "source": [
    "# For testing purposes create a session\n",
    "session = app.create_session(user_id=\"user_1\")\n",
    "session"
   ]
  },
  {
   "cell_type": "code",
   "execution_count": 48,
   "id": "f866b120",
   "metadata": {},
   "outputs": [
    {
     "name": "stdout",
     "output_type": "stream",
     "text": [
      "{'invocation_id': 'e-3328baa4-9126-4ef4-b91a-339636326e18', 'author': 'bq_data_assistant', 'actions': {'state_delta': {'database_settings': {'bq_project_id': 'speca-sandbox', 'bq_dataset_id': 'legaldata', 'bq_ddl_schema': \"CREATE OR REPLACE TABLE `speca-sandbox.legaldata.decisoes` (\\n  `nro_processo` STRING,\\n  `classe` STRING,\\n  `assunto` STRING,\\n  `magistrado` STRING,\\n  `comarca` STRING,\\n  `foro` STRING,\\n  `vara` STRING,\\n  `data_disp` STRING,\\n  `texto_decisao` STRING,\\n  `instancia` STRING,\\n  `resultado` STRING\\n);\\n\\nCREATE OR REPLACE TABLE `speca-sandbox.legaldata.processos` (\\n  `cod_empresa` STRING,\\n  `nro_processo` STRING,\\n  `link_processo` STRING,\\n  `nome_parte` STRING,\\n  `tipo_participacao` STRING,\\n  `classe_processo` STRING,\\n  `assunto_processo` STRING,\\n  `data_distribuicao` DATETIME,\\n  `local_distribuicao` STRING,\\n  `decisao_primeira` STRING,\\n  `valor_contingencia` FLOAT,\\n  `prognostico_risco` STRING\\n);\\n\\n-- Example values for table `speca-sandbox.legaldata.processos`:\\nINSERT INTO `speca-sandbox.legaldata.processos` VALUES\\n('GOOGLE','1022362-17.2016.8.26.0002','https://esaj.tjsp.jus.br/cpopg/show.do?processo.codigo=02001DRZS0000&processo.foro=2&cbPesquisa=NMPARTE&dadosConsulta.valorConsulta=Google+Brasil+Internet+Ltda&cdForo=2&paginaConsulta=2','Google Brasil Internet Ltda','Reqdo:','Procedimento Comum Cível','Indenização por Dano Moral',2016-05-12 00:00:00,'10ª Vara Cível',NULL,3211.0,'Provável');\\n\\nINSERT INTO `speca-sandbox.legaldata.processos` VALUES\\n('GOOGLE','1022362-17.2016.8.26.0002','https://esaj.tjsp.jus.br/cpopg/show.do?processo.codigo=02001DRZS0000&processo.foro=2&cbPesquisa=NMPARTE&dadosConsulta.valorConsulta=Google+Brasil+Internet+Ltda&cdForo=2&paginaConsulta=2','Google Brasil Internet Ltda','Reqdo:','Procedimento Comum Cível','Indenização por Dano Moral',2016-05-12 00:00:00,'10ª Vara Cível',NULL,3404.0,'Possível');\\n\\nINSERT INTO `speca-sandbox.legaldata.processos` VALUES\\n('GOOGLE','1022362-17.2016.8.26.0002','https://esaj.tjsp.jus.br/cpopg/show.do?processo.codigo=02001DRZS0000&processo.foro=2&cbPesquisa=NMPARTE&dadosConsulta.valorConsulta=Google+Brasil+Internet+Ltda&cdForo=2&paginaConsulta=2','Google Brasil Internet Ltda','Reqdo:','Procedimento Comum Cível','Indenização por Dano Moral',2016-05-12 00:00:00,'10ª Vara Cível',NULL,9974.0,'Possível');\\n\\nINSERT INTO `speca-sandbox.legaldata.processos` VALUES\\n('GOOGLE','1019781-53.2021.8.26.0002','https://esaj.tjsp.jus.br/cpopg/show.do?processo.codigo=020025YYD0000&processo.foro=2&cbPesquisa=NMPARTE&dadosConsulta.valorConsulta=Google+Brasil+Internet+Ltda&cdForo=2&paginaConsulta=2','Google Brasil Internet Ltda','Reqdo:','Procedimento Comum Cível','Rescisão do contrato e devolução do dinheiro',2021-04-13 00:00:00,'10ª Vara Cível',NULL,9591.0,'Possível');\\n\\nINSERT INTO `speca-sandbox.legaldata.processos` VALUES\\n('GOOGLE','1019781-53.2021.8.26.0002','https://esaj.tjsp.jus.br/cpopg/show.do?processo.codigo=020025YYD0000&processo.foro=2&cbPesquisa=NMPARTE&dadosConsulta.valorConsulta=Google+Brasil+Internet+Ltda&cdForo=2&paginaConsulta=2','Google Brasil Internet Ltda','Reqdo:','Procedimento Comum Cível','Rescisão do contrato e devolução do dinheiro',2021-04-13 00:00:00,'10ª Vara Cível',NULL,7326.0,'Provável');\\n\\n\"}}, 'artifact_delta': {}, 'requested_auth_configs': {}}, 'id': 'qih7gmPz', 'timestamp': 1747870268.707619}\n"
     ]
    },
    {
     "name": "stderr",
     "output_type": "stream",
     "text": [
      "WARNING:google_genai.types:Warning: there are non-text parts in the response: ['function_call'],returning concatenated text result from text parts,check out the non text parts for full response from model.\n"
     ]
    },
    {
     "name": "stdout",
     "output_type": "stream",
     "text": [
      "{'content': {'parts': [{'function_call': {'id': 'adk-71faf284-d63a-4002-a39e-6041d9151994', 'args': {'question': 'Quantos processos em 2023 por assunto?'}, 'name': 'bq_nl2sql'}}], 'role': 'model'}, 'invocation_id': 'e-3328baa4-9126-4ef4-b91a-339636326e18', 'author': 'bq_data_assistant', 'actions': {'state_delta': {}, 'artifact_delta': {}, 'requested_auth_configs': {}}, 'long_running_tool_ids': set(), 'id': 'cIrQzr1c', 'timestamp': 1747870268.70846}\n",
      "\n",
      " sql: SELECT\n",
      "    COUNT(p.nro_processo) AS quantidade_processos,\n",
      "    p.assunto_processo\n",
      "  FROM\n",
      "    `speca-sandbox.legaldata.processos` AS p\n",
      "  WHERE EXTRACT(YEAR FROM p.data_distribuicao) = 2023\n",
      "  GROUP BY \n",
      "    p.assunto_processo\n",
      "  LIMIT 80\n",
      "{'content': {'parts': [{'function_response': {'id': 'adk-71faf284-d63a-4002-a39e-6041d9151994', 'name': 'bq_nl2sql', 'response': {'result': 'SELECT\\n    COUNT(p.nro_processo) AS quantidade_processos,\\n    p.assunto_processo\\n  FROM\\n    `speca-sandbox.legaldata.processos` AS p\\n  WHERE EXTRACT(YEAR FROM p.data_distribuicao) = 2023\\n  GROUP BY \\n    p.assunto_processo\\n  LIMIT 80'}}}], 'role': 'user'}, 'invocation_id': 'e-3328baa4-9126-4ef4-b91a-339636326e18', 'author': 'bq_data_assistant', 'actions': {'state_delta': {'sql_query': 'SELECT\\n    COUNT(p.nro_processo) AS quantidade_processos,\\n    p.assunto_processo\\n  FROM\\n    `speca-sandbox.legaldata.processos` AS p\\n  WHERE EXTRACT(YEAR FROM p.data_distribuicao) = 2023\\n  GROUP BY \\n    p.assunto_processo\\n  LIMIT 80'}, 'artifact_delta': {}, 'requested_auth_configs': {}}, 'id': 'XtVrXn9e', 'timestamp': 1747870274.842742}\n"
     ]
    },
    {
     "name": "stderr",
     "output_type": "stream",
     "text": [
      "WARNING:google_genai.types:Warning: there are non-text parts in the response: ['function_call'],returning concatenated text result from text parts,check out the non text parts for full response from model.\n"
     ]
    },
    {
     "name": "stdout",
     "output_type": "stream",
     "text": [
      "{'content': {'parts': [{'function_call': {'id': 'adk-5b1e0f20-9bbc-4e58-8c5f-25f7af864e97', 'args': {'sql_string': 'SELECT\\n    COUNT(p.nro_processo) AS quantidade_processos,\\n    p.assunto_processo\\n  FROM\\n    `speca-sandbox.legaldata.processos` AS p\\n  WHERE EXTRACT(YEAR FROM p.data_distribuicao) = 2023\\n  GROUP BY \\n    p.assunto_processo\\n  LIMIT 80'}, 'name': 'run_bigquery_validation'}}], 'role': 'model'}, 'invocation_id': 'e-3328baa4-9126-4ef4-b91a-339636326e18', 'author': 'bq_data_assistant', 'actions': {'state_delta': {}, 'artifact_delta': {}, 'requested_auth_configs': {}}, 'long_running_tool_ids': set(), 'id': 'ZHMyeegF', 'timestamp': 1747870274.845221}\n",
      "\n",
      " run_bigquery_validation final_result: \n",
      " {'query_result': [{'quantidade_processos': 18, 'assunto_processo': 'DIREITO PROCESSUAL CIVIL E DO TRABALHO'}, {'quantidade_processos': 5, 'assunto_processo': 'Liminar'}, {'quantidade_processos': 1, 'assunto_processo': 'Atos Administrativos'}, {'quantidade_processos': 25, 'assunto_processo': 'Práticas Abusivas'}, {'quantidade_processos': 17, 'assunto_processo': 'Responsabilidade do Fornecedor'}, {'quantidade_processos': 1, 'assunto_processo': 'Interpretação / Revisão de Contrato'}, {'quantidade_processos': 27, 'assunto_processo': 'Indenização por Dano Material'}, {'quantidade_processos': 29, 'assunto_processo': 'Indenização por Dano Moral'}, {'quantidade_processos': 3, 'assunto_processo': 'Provas em geral'}, {'quantidade_processos': 11, 'assunto_processo': 'Proteção de dados pessoais (LGPD)'}, {'quantidade_processos': 5, 'assunto_processo': 'Perdas e Danos'}, {'quantidade_processos': 9, 'assunto_processo': 'Defeito, nulidade ou anulação'}, {'quantidade_processos': 4, 'assunto_processo': 'Concorrência desleal'}, {'quantidade_processos': 6, 'assunto_processo': 'Marca'}, {'quantidade_processos': 5, 'assunto_processo': 'DIREITO CIVIL'}, {'quantidade_processos': 5, 'assunto_processo': 'Direito de Imagem'}, {'quantidade_processos': 8, 'assunto_processo': 'Obrigações'}, {'quantidade_processos': 1, 'assunto_processo': 'Bancários'}, {'quantidade_processos': 1, 'assunto_processo': 'Contratos Bancários'}, {'quantidade_processos': 1, 'assunto_processo': 'Oferta e Publicidade'}, {'quantidade_processos': 5, 'assunto_processo': 'Dever de Informação'}, {'quantidade_processos': 1, 'assunto_processo': 'Crédito Direto ao Consumidor - CDC'}, {'quantidade_processos': 1, 'assunto_processo': 'Concurso de Credores'}, {'quantidade_processos': 4, 'assunto_processo': 'Petição intermediária'}, {'quantidade_processos': 2, 'assunto_processo': 'Estaduais'}, {'quantidade_processos': 1, 'assunto_processo': 'Enriquecimento sem Causa'}, {'quantidade_processos': 1, 'assunto_processo': 'Prestação de Serviços'}, {'quantidade_processos': 1, 'assunto_processo': 'Inventário e Partilha'}, {'quantidade_processos': 1, 'assunto_processo': 'Irregularidade no atendimento'}, {'quantidade_processos': 1, 'assunto_processo': 'Contrafação'}, {'quantidade_processos': 2, 'assunto_processo': 'Compra e Venda'}, {'quantidade_processos': 1, 'assunto_processo': 'Rescisão do contrato e devolução do dinheiro'}, {'quantidade_processos': 1, 'assunto_processo': 'Direito Autoral'}, {'quantidade_processos': 1, 'assunto_processo': 'Revisão de Tutela Antecipada Antecedente'}], 'error_message': None}\n",
      "{'content': {'parts': [{'function_response': {'id': 'adk-5b1e0f20-9bbc-4e58-8c5f-25f7af864e97', 'name': 'run_bigquery_validation', 'response': {'query_result': [{'quantidade_processos': 18, 'assunto_processo': 'DIREITO PROCESSUAL CIVIL E DO TRABALHO'}, {'quantidade_processos': 5, 'assunto_processo': 'Liminar'}, {'quantidade_processos': 1, 'assunto_processo': 'Atos Administrativos'}, {'quantidade_processos': 25, 'assunto_processo': 'Práticas Abusivas'}, {'quantidade_processos': 17, 'assunto_processo': 'Responsabilidade do Fornecedor'}, {'quantidade_processos': 1, 'assunto_processo': 'Interpretação / Revisão de Contrato'}, {'quantidade_processos': 27, 'assunto_processo': 'Indenização por Dano Material'}, {'quantidade_processos': 29, 'assunto_processo': 'Indenização por Dano Moral'}, {'quantidade_processos': 3, 'assunto_processo': 'Provas em geral'}, {'quantidade_processos': 11, 'assunto_processo': 'Proteção de dados pessoais (LGPD)'}, {'quantidade_processos': 5, 'assunto_processo': 'Perdas e Danos'}, {'quantidade_processos': 9, 'assunto_processo': 'Defeito, nulidade ou anulação'}, {'quantidade_processos': 4, 'assunto_processo': 'Concorrência desleal'}, {'quantidade_processos': 6, 'assunto_processo': 'Marca'}, {'quantidade_processos': 5, 'assunto_processo': 'DIREITO CIVIL'}, {'quantidade_processos': 5, 'assunto_processo': 'Direito de Imagem'}, {'quantidade_processos': 8, 'assunto_processo': 'Obrigações'}, {'quantidade_processos': 1, 'assunto_processo': 'Bancários'}, {'quantidade_processos': 1, 'assunto_processo': 'Contratos Bancários'}, {'quantidade_processos': 1, 'assunto_processo': 'Oferta e Publicidade'}, {'quantidade_processos': 5, 'assunto_processo': 'Dever de Informação'}, {'quantidade_processos': 1, 'assunto_processo': 'Crédito Direto ao Consumidor - CDC'}, {'quantidade_processos': 1, 'assunto_processo': 'Concurso de Credores'}, {'quantidade_processos': 4, 'assunto_processo': 'Petição intermediária'}, {'quantidade_processos': 2, 'assunto_processo': 'Estaduais'}, {'quantidade_processos': 1, 'assunto_processo': 'Enriquecimento sem Causa'}, {'quantidade_processos': 1, 'assunto_processo': 'Prestação de Serviços'}, {'quantidade_processos': 1, 'assunto_processo': 'Inventário e Partilha'}, {'quantidade_processos': 1, 'assunto_processo': 'Irregularidade no atendimento'}, {'quantidade_processos': 1, 'assunto_processo': 'Contrafação'}, {'quantidade_processos': 2, 'assunto_processo': 'Compra e Venda'}, {'quantidade_processos': 1, 'assunto_processo': 'Rescisão do contrato e devolução do dinheiro'}, {'quantidade_processos': 1, 'assunto_processo': 'Direito Autoral'}, {'quantidade_processos': 1, 'assunto_processo': 'Revisão de Tutela Antecipada Antecedente'}], 'error_message': None}}}], 'role': 'user'}, 'invocation_id': 'e-3328baa4-9126-4ef4-b91a-339636326e18', 'author': 'bq_data_assistant', 'actions': {'state_delta': {'query_result': [{'quantidade_processos': 18, 'assunto_processo': 'DIREITO PROCESSUAL CIVIL E DO TRABALHO'}, {'quantidade_processos': 5, 'assunto_processo': 'Liminar'}, {'quantidade_processos': 1, 'assunto_processo': 'Atos Administrativos'}, {'quantidade_processos': 25, 'assunto_processo': 'Práticas Abusivas'}, {'quantidade_processos': 17, 'assunto_processo': 'Responsabilidade do Fornecedor'}, {'quantidade_processos': 1, 'assunto_processo': 'Interpretação / Revisão de Contrato'}, {'quantidade_processos': 27, 'assunto_processo': 'Indenização por Dano Material'}, {'quantidade_processos': 29, 'assunto_processo': 'Indenização por Dano Moral'}, {'quantidade_processos': 3, 'assunto_processo': 'Provas em geral'}, {'quantidade_processos': 11, 'assunto_processo': 'Proteção de dados pessoais (LGPD)'}, {'quantidade_processos': 5, 'assunto_processo': 'Perdas e Danos'}, {'quantidade_processos': 9, 'assunto_processo': 'Defeito, nulidade ou anulação'}, {'quantidade_processos': 4, 'assunto_processo': 'Concorrência desleal'}, {'quantidade_processos': 6, 'assunto_processo': 'Marca'}, {'quantidade_processos': 5, 'assunto_processo': 'DIREITO CIVIL'}, {'quantidade_processos': 5, 'assunto_processo': 'Direito de Imagem'}, {'quantidade_processos': 8, 'assunto_processo': 'Obrigações'}, {'quantidade_processos': 1, 'assunto_processo': 'Bancários'}, {'quantidade_processos': 1, 'assunto_processo': 'Contratos Bancários'}, {'quantidade_processos': 1, 'assunto_processo': 'Oferta e Publicidade'}, {'quantidade_processos': 5, 'assunto_processo': 'Dever de Informação'}, {'quantidade_processos': 1, 'assunto_processo': 'Crédito Direto ao Consumidor - CDC'}, {'quantidade_processos': 1, 'assunto_processo': 'Concurso de Credores'}, {'quantidade_processos': 4, 'assunto_processo': 'Petição intermediária'}, {'quantidade_processos': 2, 'assunto_processo': 'Estaduais'}, {'quantidade_processos': 1, 'assunto_processo': 'Enriquecimento sem Causa'}, {'quantidade_processos': 1, 'assunto_processo': 'Prestação de Serviços'}, {'quantidade_processos': 1, 'assunto_processo': 'Inventário e Partilha'}, {'quantidade_processos': 1, 'assunto_processo': 'Irregularidade no atendimento'}, {'quantidade_processos': 1, 'assunto_processo': 'Contrafação'}, {'quantidade_processos': 2, 'assunto_processo': 'Compra e Venda'}, {'quantidade_processos': 1, 'assunto_processo': 'Rescisão do contrato e devolução do dinheiro'}, {'quantidade_processos': 1, 'assunto_processo': 'Direito Autoral'}, {'quantidade_processos': 1, 'assunto_processo': 'Revisão de Tutela Antecipada Antecedente'}]}, 'artifact_delta': {}, 'requested_auth_configs': {}}, 'id': 'gU5AmNd4', 'timestamp': 1747870280.830947}\n",
      "{'content': {'parts': [{'text': 'Em 2023, a quantidade de processos por assunto é a seguinte:\\n\\n*   DIREITO PROCESSUAL CIVIL E DO TRABALHO: 18\\n*   Liminar: 5\\n*   Atos Administrativos: 1\\n*   Práticas Abusivas: 25\\n*   Responsabilidade do Fornecedor: 17\\n*   Interpretação / Revisão de Contrato: 1\\n*   Indenização por Dano Material: 27\\n*   Indenização por Dano Moral: 29\\n*   Provas em geral: 3\\n*   Proteção de dados pessoais (LGPD): 11\\n*   Perdas e Danos: 5\\n*   Defeito, nulidade ou anulação: 9\\n*   Concorrência desleal: 4\\n*   Marca: 6\\n*   DIREITO CIVIL: 5\\n*   Direito de Imagem: 5\\n*   Obrigações: 8\\n*   Bancários: 1\\n*   Contratos Bancários: 1\\n*   Oferta e Publicidade: 1\\n*   Dever de Informação: 5\\n*   Crédito Direto ao Consumidor - CDC: 1\\n*   Concurso de Credores: 1\\n*   Petição intermediária: 4\\n*   Estaduais: 2\\n*   Enriquecimento sem Causa: 1\\n*   Prestação de Serviços: 1\\n*   Inventário e Partilha: 1\\n*   Irregularidade no atendimento: 1\\n*   Contrafação: 1\\n*   Compra e Venda: 2\\n*   Rescisão do contrato e devolução do dinheiro: 1\\n*   Direito Autoral: 1\\n*   Revisão de Tutela Antecipada Antecedente: 1'}], 'role': 'model'}, 'invocation_id': 'e-3328baa4-9126-4ef4-b91a-339636326e18', 'author': 'bq_data_assistant', 'actions': {'state_delta': {}, 'artifact_delta': {}, 'requested_auth_configs': {}}, 'id': '2oKh5chs', 'timestamp': 1747870280.833369}\n"
     ]
    }
   ],
   "source": [
    "# Run a simple query\n",
    "for event in app.stream_query(\n",
    "    user_id=\"user_1\",\n",
    "    session_id=session.id,\n",
    "    message=\"Quantos processos em 2023 por assunto?\",\n",
    "):\n",
    "    print(event)"
   ]
  },
  {
   "cell_type": "code",
   "execution_count": 49,
   "id": "97191f21",
   "metadata": {},
   "outputs": [
    {
     "name": "stdout",
     "output_type": "stream",
     "text": [
      "Em 2023, a quantidade de processos por assunto é a seguinte:*   DIREITO PROCESSUAL CIVIL E DO TRABALHO: 18*   Liminar: 5*   Atos Administrativos: 1*   Práticas Abusivas: 25*   Responsabilidade do Fornecedor: 17*   Interpretação / Revisão de Contrato: 1*   Indenização por Dano Material: 27*   Indenização por Dano Moral: 29*   Provas em geral: 3*   Proteção de dados pessoais (LGPD): 11*   Perdas e Danos: 5*   Defeito, nulidade ou anulação: 9*   Concorrência desleal: 4*   Marca: 6*   DIREITO CIVIL: 5*   Direito de Imagem: 5*   Obrigações: 8*   Bancários: 1*   Contratos Bancários: 1*   Oferta e Publicidade: 1*   Dever de Informação: 5*   Crédito Direto ao Consumidor - CDC: 1*   Concurso de Credores: 1*   Petição intermediária: 4*   Estaduais: 2*   Enriquecimento sem Causa: 1*   Prestação de Serviços: 1*   Inventário e Partilha: 1*   Irregularidade no atendimento: 1*   Contrafação: 1*   Compra e Venda: 2*   Rescisão do contrato e devolução do dinheiro: 1*   Direito Autoral: 1*   Revisão de Tutela Antecipada Antecedente: 1\n"
     ]
    }
   ],
   "source": [
    "json_answer = event['content']['parts'][0]['text']\n",
    "\n",
    "# in case that the output doesnt bring a JSON\n",
    "try:  \n",
    "    json_answer = json_answer.replace('```json','').replace('```','').replace('\\n','').replace('\\\\n','')\n",
    "    JSON(json.loads(json_answer))\n",
    "except :\n",
    "    print(json_answer)"
   ]
  },
  {
   "cell_type": "code",
   "execution_count": 50,
   "id": "e978a73f",
   "metadata": {},
   "outputs": [
    {
     "name": "stdout",
     "output_type": "stream",
     "text": [
      "Agent: Legal Data Agent [projects/41865284455/locations/us-central1/reasoningEngines/299533355685249024] created/updated at: 2025-05-21 20:43:56.967645+00:00\n",
      "Agent: Legal Data Assistant [projects/41865284455/locations/us-central1/reasoningEngines/1622465746225332224] created/updated at: 2025-05-21 18:01:54.856531+00:00\n"
     ]
    }
   ],
   "source": [
    "## (OPTIONAL) - Retrieve all existent Agent Engine resource.names (Agents)\n",
    "for agent in agent_engines.list():\n",
    "    print(f\"Agent: {agent.display_name} [{agent.resource_name}] created/updated at: {agent.update_time}\" )"
   ]
  },
  {
   "cell_type": "code",
   "execution_count": null,
   "id": "662128d9",
   "metadata": {},
   "outputs": [],
   "source": [
    "## (OPTIONAL) - Update the agent at the same Agent Resource \n",
    "# agent_engines.update(\n",
    "#     resource_name=remote_agent.resource_name,    # Required.\n",
    "#     agent_engine = app,\n",
    "#     extra_packages=extra_packages,      # Extra packages\n",
    "#     display_name=agent_display_name,    # Display name  \n",
    "#     description=agent_description,      # Description\n",
    "#     env_vars=env_vars \n",
    "# )"
   ]
  },
  {
   "cell_type": "code",
   "execution_count": 51,
   "id": "f3aa76bc",
   "metadata": {},
   "outputs": [
    {
     "name": "stdout",
     "output_type": "stream",
     "text": [
      "Identified the following requirements: {'google-cloud-aiplatform': '1.93.0', 'cloudpickle': '3.1.1', 'pydantic': '2.11.4'}\n"
     ]
    },
    {
     "name": "stderr",
     "output_type": "stream",
     "text": [
      "INFO:vertexai.agent_engines:Identified the following requirements: {'google-cloud-aiplatform': '1.93.0', 'cloudpickle': '3.1.1', 'pydantic': '2.11.4'}\n"
     ]
    },
    {
     "name": "stdout",
     "output_type": "stream",
     "text": [
      "The final list of requirements: ['google-cloud-aiplatform[agent_engines]', 'google-adk==0.5.0', 'cloudpickle', 'pydantic', 'google-cloud-bigquery', 'pandas', 'db-dtypes']\n"
     ]
    },
    {
     "name": "stderr",
     "output_type": "stream",
     "text": [
      "INFO:vertexai.agent_engines:The final list of requirements: ['google-cloud-aiplatform[agent_engines]', 'google-adk==0.5.0', 'cloudpickle', 'pydantic', 'google-cloud-bigquery', 'pandas', 'db-dtypes']\n"
     ]
    },
    {
     "name": "stdout",
     "output_type": "stream",
     "text": [
      "Using bucket speca-data-assistant-staging\n"
     ]
    },
    {
     "name": "stderr",
     "output_type": "stream",
     "text": [
      "INFO:vertexai.agent_engines:Using bucket speca-data-assistant-staging\n"
     ]
    },
    {
     "name": "stdout",
     "output_type": "stream",
     "text": [
      "Wrote to gs://speca-data-assistant-staging/agent_engine/agent_engine.pkl\n"
     ]
    },
    {
     "name": "stderr",
     "output_type": "stream",
     "text": [
      "INFO:vertexai.agent_engines:Wrote to gs://speca-data-assistant-staging/agent_engine/agent_engine.pkl\n"
     ]
    },
    {
     "name": "stdout",
     "output_type": "stream",
     "text": [
      "Writing to gs://speca-data-assistant-staging/agent_engine/requirements.txt\n"
     ]
    },
    {
     "name": "stderr",
     "output_type": "stream",
     "text": [
      "INFO:vertexai.agent_engines:Writing to gs://speca-data-assistant-staging/agent_engine/requirements.txt\n"
     ]
    },
    {
     "name": "stdout",
     "output_type": "stream",
     "text": [
      "Creating in-memory tarfile of extra_packages\n"
     ]
    },
    {
     "name": "stderr",
     "output_type": "stream",
     "text": [
      "INFO:vertexai.agent_engines:Creating in-memory tarfile of extra_packages\n"
     ]
    },
    {
     "name": "stdout",
     "output_type": "stream",
     "text": [
      "Writing to gs://speca-data-assistant-staging/agent_engine/dependencies.tar.gz\n"
     ]
    },
    {
     "name": "stderr",
     "output_type": "stream",
     "text": [
      "INFO:vertexai.agent_engines:Writing to gs://speca-data-assistant-staging/agent_engine/dependencies.tar.gz\n"
     ]
    },
    {
     "name": "stdout",
     "output_type": "stream",
     "text": [
      "Creating AgentEngine\n"
     ]
    },
    {
     "name": "stderr",
     "output_type": "stream",
     "text": [
      "INFO:vertexai.agent_engines:Creating AgentEngine\n"
     ]
    },
    {
     "name": "stdout",
     "output_type": "stream",
     "text": [
      "Create AgentEngine backing LRO: projects/41865284455/locations/us-central1/reasoningEngines/6064140878719483904/operations/1045956993367408640\n"
     ]
    },
    {
     "name": "stderr",
     "output_type": "stream",
     "text": [
      "INFO:vertexai.agent_engines:Create AgentEngine backing LRO: projects/41865284455/locations/us-central1/reasoningEngines/6064140878719483904/operations/1045956993367408640\n"
     ]
    },
    {
     "name": "stdout",
     "output_type": "stream",
     "text": [
      "View progress and logs at https://console.cloud.google.com/logs/query?project=speca-sandbox\n"
     ]
    },
    {
     "name": "stderr",
     "output_type": "stream",
     "text": [
      "INFO:vertexai.agent_engines:View progress and logs at https://console.cloud.google.com/logs/query?project=speca-sandbox\n"
     ]
    },
    {
     "name": "stdout",
     "output_type": "stream",
     "text": [
      "AgentEngine created. Resource name: projects/41865284455/locations/us-central1/reasoningEngines/6064140878719483904\n"
     ]
    },
    {
     "name": "stderr",
     "output_type": "stream",
     "text": [
      "INFO:vertexai.agent_engines:AgentEngine created. Resource name: projects/41865284455/locations/us-central1/reasoningEngines/6064140878719483904\n"
     ]
    },
    {
     "name": "stdout",
     "output_type": "stream",
     "text": [
      "To use this AgentEngine in another session:\n"
     ]
    },
    {
     "name": "stderr",
     "output_type": "stream",
     "text": [
      "INFO:vertexai.agent_engines:To use this AgentEngine in another session:\n"
     ]
    },
    {
     "name": "stdout",
     "output_type": "stream",
     "text": [
      "agent_engine = vertexai.agent_engines.get('projects/41865284455/locations/us-central1/reasoningEngines/6064140878719483904')\n"
     ]
    },
    {
     "name": "stderr",
     "output_type": "stream",
     "text": [
      "INFO:vertexai.agent_engines:agent_engine = vertexai.agent_engines.get('projects/41865284455/locations/us-central1/reasoningEngines/6064140878719483904')\n"
     ]
    }
   ],
   "source": [
    "# Deploy the Agent on AI Engine (This takes a few minutes)\n",
    "\n",
    "remote_agent = agent_engines.create(\n",
    "    app,                                # The Agente instantiated as ADK agent\n",
    "    requirements=requirements,          # Requirements file\n",
    "    extra_packages=extra_packages,      # Extra packages\n",
    "    display_name=agent_display_name,    # Display name  \n",
    "    description=agent_description,      # Description\n",
    "    env_vars=env_vars                   # Env Vars dict\n",
    ")"
   ]
  },
  {
   "cell_type": "code",
   "execution_count": 52,
   "id": "6c662923",
   "metadata": {},
   "outputs": [
    {
     "data": {
      "text/plain": [
       "'projects/41865284455/locations/us-central1/reasoningEngines/6064140878719483904'"
      ]
     },
     "execution_count": 52,
     "metadata": {},
     "output_type": "execute_result"
    }
   ],
   "source": [
    "# Retrieve ID of Agent Engine\n",
    "remote_agent.resource_name"
   ]
  },
  {
   "cell_type": "code",
   "execution_count": 53,
   "id": "ce3c0f69",
   "metadata": {},
   "outputs": [],
   "source": [
    "# Testing Remote Agent\n",
    "session_remote = remote_agent.create_session(user_id=\"user_1\")\n"
   ]
  },
  {
   "cell_type": "code",
   "execution_count": 54,
   "id": "8b775fc0",
   "metadata": {},
   "outputs": [
    {
     "data": {
      "text/plain": [
       "'5541587532258476032'"
      ]
     },
     "execution_count": 54,
     "metadata": {},
     "output_type": "execute_result"
    }
   ],
   "source": [
    "session_remote[\"id\"]"
   ]
  },
  {
   "cell_type": "code",
   "execution_count": 55,
   "id": "4bc18e64",
   "metadata": {},
   "outputs": [
    {
     "name": "stdout",
     "output_type": "stream",
     "text": [
      "{'invocation_id': 'e-4fe30c46-c7f4-4f0c-9e0b-118e1511ff78', 'author': 'bq_data_assistant', 'actions': {'state_delta': {'database_settings': {'bq_project_id': 'speca-sandbox', 'bq_dataset_id': 'legaldata', 'bq_ddl_schema': \"CREATE OR REPLACE TABLE `speca-sandbox.legaldata.decisoes` (\\n  `nro_processo` STRING,\\n  `classe` STRING,\\n  `assunto` STRING,\\n  `magistrado` STRING,\\n  `comarca` STRING,\\n  `foro` STRING,\\n  `vara` STRING,\\n  `data_disp` STRING,\\n  `texto_decisao` STRING,\\n  `instancia` STRING,\\n  `resultado` STRING\\n);\\n\\nCREATE OR REPLACE TABLE `speca-sandbox.legaldata.processos` (\\n  `cod_empresa` STRING,\\n  `nro_processo` STRING,\\n  `link_processo` STRING,\\n  `nome_parte` STRING,\\n  `tipo_participacao` STRING,\\n  `classe_processo` STRING,\\n  `assunto_processo` STRING,\\n  `data_distribuicao` DATETIME,\\n  `local_distribuicao` STRING,\\n  `decisao_primeira` STRING,\\n  `valor_contingencia` FLOAT,\\n  `prognostico_risco` STRING\\n);\\n\\n-- Example values for table `speca-sandbox.legaldata.processos`:\\nINSERT INTO `speca-sandbox.legaldata.processos` VALUES\\n('GOOGLE','1022362-17.2016.8.26.0002','https://esaj.tjsp.jus.br/cpopg/show.do?processo.codigo=02001DRZS0000&processo.foro=2&cbPesquisa=NMPARTE&dadosConsulta.valorConsulta=Google+Brasil+Internet+Ltda&cdForo=2&paginaConsulta=2','Google Brasil Internet Ltda','Reqdo:','Procedimento Comum Cível','Indenização por Dano Moral',2016-05-12 00:00:00,'10ª Vara Cível',NULL,3211.0,'Provável');\\n\\nINSERT INTO `speca-sandbox.legaldata.processos` VALUES\\n('GOOGLE','1022362-17.2016.8.26.0002','https://esaj.tjsp.jus.br/cpopg/show.do?processo.codigo=02001DRZS0000&processo.foro=2&cbPesquisa=NMPARTE&dadosConsulta.valorConsulta=Google+Brasil+Internet+Ltda&cdForo=2&paginaConsulta=2','Google Brasil Internet Ltda','Reqdo:','Procedimento Comum Cível','Indenização por Dano Moral',2016-05-12 00:00:00,'10ª Vara Cível',NULL,3404.0,'Possível');\\n\\nINSERT INTO `speca-sandbox.legaldata.processos` VALUES\\n('GOOGLE','1022362-17.2016.8.26.0002','https://esaj.tjsp.jus.br/cpopg/show.do?processo.codigo=02001DRZS0000&processo.foro=2&cbPesquisa=NMPARTE&dadosConsulta.valorConsulta=Google+Brasil+Internet+Ltda&cdForo=2&paginaConsulta=2','Google Brasil Internet Ltda','Reqdo:','Procedimento Comum Cível','Indenização por Dano Moral',2016-05-12 00:00:00,'10ª Vara Cível',NULL,9974.0,'Possível');\\n\\nINSERT INTO `speca-sandbox.legaldata.processos` VALUES\\n('GOOGLE','1019781-53.2021.8.26.0002','https://esaj.tjsp.jus.br/cpopg/show.do?processo.codigo=020025YYD0000&processo.foro=2&cbPesquisa=NMPARTE&dadosConsulta.valorConsulta=Google+Brasil+Internet+Ltda&cdForo=2&paginaConsulta=2','Google Brasil Internet Ltda','Reqdo:','Procedimento Comum Cível','Rescisão do contrato e devolução do dinheiro',2021-04-13 00:00:00,'10ª Vara Cível',NULL,9591.0,'Possível');\\n\\nINSERT INTO `speca-sandbox.legaldata.processos` VALUES\\n('GOOGLE','1019781-53.2021.8.26.0002','https://esaj.tjsp.jus.br/cpopg/show.do?processo.codigo=020025YYD0000&processo.foro=2&cbPesquisa=NMPARTE&dadosConsulta.valorConsulta=Google+Brasil+Internet+Ltda&cdForo=2&paginaConsulta=2','Google Brasil Internet Ltda','Reqdo:','Procedimento Comum Cível','Rescisão do contrato e devolução do dinheiro',2021-04-13 00:00:00,'10ª Vara Cível',NULL,7326.0,'Provável');\\n\\n\"}}, 'artifact_delta': {}, 'requested_auth_configs': {}}, 'id': 'ws3xBvAC', 'timestamp': 1747870711.839137}\n",
      "{'content': {'parts': [{'function_call': {'id': 'adk-de2ac5cd-1db8-475a-baff-05a67cddd6f3', 'args': {'question': 'Quantos processos em 2023 por assunto?'}, 'name': 'bq_nl2sql'}}], 'role': 'model'}, 'invocation_id': 'e-4fe30c46-c7f4-4f0c-9e0b-118e1511ff78', 'author': 'bq_data_assistant', 'actions': {'state_delta': {}, 'artifact_delta': {}, 'requested_auth_configs': {}}, 'long_running_tool_ids': [], 'id': 'oUkg7ZWq', 'timestamp': 1747870711.908804}\n",
      "{'content': {'parts': [{'function_response': {'id': 'adk-de2ac5cd-1db8-475a-baff-05a67cddd6f3', 'name': 'bq_nl2sql', 'response': {'result': 'SELECT\\n    COUNT(p.nro_processo) AS quantidade_processos,\\n    p.assunto_processo\\n  FROM\\n    `speca-sandbox.legaldata.processos` AS p\\n  WHERE EXTRACT(YEAR FROM p.data_distribuicao) = 2023\\n  GROUP BY \\n    p.assunto_processo\\n   LIMIT 80'}}}], 'role': 'user'}, 'invocation_id': 'e-4fe30c46-c7f4-4f0c-9e0b-118e1511ff78', 'author': 'bq_data_assistant', 'actions': {'state_delta': {'sql_query': 'SELECT\\n    COUNT(p.nro_processo) AS quantidade_processos,\\n    p.assunto_processo\\n  FROM\\n    `speca-sandbox.legaldata.processos` AS p\\n  WHERE EXTRACT(YEAR FROM p.data_distribuicao) = 2023\\n  GROUP BY \\n    p.assunto_processo\\n   LIMIT 80'}, 'artifact_delta': {}, 'requested_auth_configs': {}}, 'id': 'iIf5zJid', 'timestamp': 1747870714.838475}\n",
      "{'content': {'parts': [{'function_call': {'id': 'adk-0a44a210-b2a4-48f7-95bc-980be27556ef', 'args': {'sql_string': 'SELECT\\n    COUNT(p.nro_processo) AS quantidade_processos,\\n    p.assunto_processo\\n  FROM\\n    `speca-sandbox.legaldata.processos` AS p\\n  WHERE EXTRACT(YEAR FROM p.data_distribuicao) = 2023\\n  GROUP BY \\n    p.assunto_processo\\n   LIMIT 80'}, 'name': 'run_bigquery_validation'}}], 'role': 'model'}, 'invocation_id': 'e-4fe30c46-c7f4-4f0c-9e0b-118e1511ff78', 'author': 'bq_data_assistant', 'actions': {'state_delta': {}, 'artifact_delta': {}, 'requested_auth_configs': {}}, 'long_running_tool_ids': [], 'id': 'n2gS5tgI', 'timestamp': 1747870714.903463}\n",
      "{'content': {'parts': [{'function_response': {'id': 'adk-0a44a210-b2a4-48f7-95bc-980be27556ef', 'name': 'run_bigquery_validation', 'response': {'query_result': [{'quantidade_processos': 18, 'assunto_processo': 'DIREITO PROCESSUAL CIVIL E DO TRABALHO'}, {'quantidade_processos': 5, 'assunto_processo': 'Liminar'}, {'quantidade_processos': 1, 'assunto_processo': 'Atos Administrativos'}, {'quantidade_processos': 25, 'assunto_processo': 'Práticas Abusivas'}, {'quantidade_processos': 17, 'assunto_processo': 'Responsabilidade do Fornecedor'}, {'quantidade_processos': 1, 'assunto_processo': 'Interpretação / Revisão de Contrato'}, {'quantidade_processos': 27, 'assunto_processo': 'Indenização por Dano Material'}, {'quantidade_processos': 29, 'assunto_processo': 'Indenização por Dano Moral'}, {'quantidade_processos': 3, 'assunto_processo': 'Provas em geral'}, {'quantidade_processos': 11, 'assunto_processo': 'Proteção de dados pessoais (LGPD)'}, {'quantidade_processos': 5, 'assunto_processo': 'Perdas e Danos'}, {'quantidade_processos': 9, 'assunto_processo': 'Defeito, nulidade ou anulação'}, {'quantidade_processos': 4, 'assunto_processo': 'Concorrência desleal'}, {'quantidade_processos': 6, 'assunto_processo': 'Marca'}, {'quantidade_processos': 5, 'assunto_processo': 'DIREITO CIVIL'}, {'quantidade_processos': 5, 'assunto_processo': 'Direito de Imagem'}, {'quantidade_processos': 8, 'assunto_processo': 'Obrigações'}, {'quantidade_processos': 1, 'assunto_processo': 'Bancários'}, {'quantidade_processos': 1, 'assunto_processo': 'Contratos Bancários'}, {'quantidade_processos': 1, 'assunto_processo': 'Oferta e Publicidade'}, {'quantidade_processos': 5, 'assunto_processo': 'Dever de Informação'}, {'quantidade_processos': 1, 'assunto_processo': 'Crédito Direto ao Consumidor - CDC'}, {'quantidade_processos': 1, 'assunto_processo': 'Concurso de Credores'}, {'quantidade_processos': 4, 'assunto_processo': 'Petição intermediária'}, {'quantidade_processos': 2, 'assunto_processo': 'Estaduais'}, {'quantidade_processos': 1, 'assunto_processo': 'Enriquecimento sem Causa'}, {'quantidade_processos': 1, 'assunto_processo': 'Prestação de Serviços'}, {'quantidade_processos': 1, 'assunto_processo': 'Inventário e Partilha'}, {'quantidade_processos': 1, 'assunto_processo': 'Irregularidade no atendimento'}, {'quantidade_processos': 1, 'assunto_processo': 'Contrafação'}, {'quantidade_processos': 2, 'assunto_processo': 'Compra e Venda'}, {'quantidade_processos': 1, 'assunto_processo': 'Rescisão do contrato e devolução do dinheiro'}, {'quantidade_processos': 1, 'assunto_processo': 'Direito Autoral'}, {'quantidade_processos': 1, 'assunto_processo': 'Revisão de Tutela Antecipada Antecedente'}], 'error_message': None}}}], 'role': 'user'}, 'invocation_id': 'e-4fe30c46-c7f4-4f0c-9e0b-118e1511ff78', 'author': 'bq_data_assistant', 'actions': {'state_delta': {'query_result': [{'quantidade_processos': 18, 'assunto_processo': 'DIREITO PROCESSUAL CIVIL E DO TRABALHO'}, {'quantidade_processos': 5, 'assunto_processo': 'Liminar'}, {'quantidade_processos': 1, 'assunto_processo': 'Atos Administrativos'}, {'quantidade_processos': 25, 'assunto_processo': 'Práticas Abusivas'}, {'quantidade_processos': 17, 'assunto_processo': 'Responsabilidade do Fornecedor'}, {'quantidade_processos': 1, 'assunto_processo': 'Interpretação / Revisão de Contrato'}, {'quantidade_processos': 27, 'assunto_processo': 'Indenização por Dano Material'}, {'quantidade_processos': 29, 'assunto_processo': 'Indenização por Dano Moral'}, {'quantidade_processos': 3, 'assunto_processo': 'Provas em geral'}, {'quantidade_processos': 11, 'assunto_processo': 'Proteção de dados pessoais (LGPD)'}, {'quantidade_processos': 5, 'assunto_processo': 'Perdas e Danos'}, {'quantidade_processos': 9, 'assunto_processo': 'Defeito, nulidade ou anulação'}, {'quantidade_processos': 4, 'assunto_processo': 'Concorrência desleal'}, {'quantidade_processos': 6, 'assunto_processo': 'Marca'}, {'quantidade_processos': 5, 'assunto_processo': 'DIREITO CIVIL'}, {'quantidade_processos': 5, 'assunto_processo': 'Direito de Imagem'}, {'quantidade_processos': 8, 'assunto_processo': 'Obrigações'}, {'quantidade_processos': 1, 'assunto_processo': 'Bancários'}, {'quantidade_processos': 1, 'assunto_processo': 'Contratos Bancários'}, {'quantidade_processos': 1, 'assunto_processo': 'Oferta e Publicidade'}, {'quantidade_processos': 5, 'assunto_processo': 'Dever de Informação'}, {'quantidade_processos': 1, 'assunto_processo': 'Crédito Direto ao Consumidor - CDC'}, {'quantidade_processos': 1, 'assunto_processo': 'Concurso de Credores'}, {'quantidade_processos': 4, 'assunto_processo': 'Petição intermediária'}, {'quantidade_processos': 2, 'assunto_processo': 'Estaduais'}, {'quantidade_processos': 1, 'assunto_processo': 'Enriquecimento sem Causa'}, {'quantidade_processos': 1, 'assunto_processo': 'Prestação de Serviços'}, {'quantidade_processos': 1, 'assunto_processo': 'Inventário e Partilha'}, {'quantidade_processos': 1, 'assunto_processo': 'Irregularidade no atendimento'}, {'quantidade_processos': 1, 'assunto_processo': 'Contrafação'}, {'quantidade_processos': 2, 'assunto_processo': 'Compra e Venda'}, {'quantidade_processos': 1, 'assunto_processo': 'Rescisão do contrato e devolução do dinheiro'}, {'quantidade_processos': 1, 'assunto_processo': 'Direito Autoral'}, {'quantidade_processos': 1, 'assunto_processo': 'Revisão de Tutela Antecipada Antecedente'}]}, 'artifact_delta': {}, 'requested_auth_configs': {}}, 'id': '5LEU3G8r', 'timestamp': 1747870717.926226}\n",
      "{'content': {'parts': [{'text': 'Em 2023, a quantidade de processos por assunto é a seguinte:\\n\\n*   DIREITO PROCESSUAL CIVIL E DO TRABALHO: 18\\n*   Liminar: 5\\n*   Atos Administrativos: 1\\n*   Práticas Abusivas: 25\\n*   Responsabilidade do Fornecedor: 17\\n*   Interpretação / Revisão de Contrato: 1\\n*   Indenização por Dano Material: 27\\n*   Indenização por Dano Moral: 29\\n*   Provas em geral: 3\\n*   Proteção de dados pessoais (LGPD): 11\\n*   Perdas e Danos: 5\\n*   Defeito, nulidade ou anulação: 9\\n*   Concorrência desleal: 4\\n*   Marca: 6\\n*   DIREITO CIVIL: 5\\n*   Direito de Imagem: 5\\n*   Obrigações: 8\\n*   Bancários: 1\\n*   Contratos Bancários: 1\\n*   Oferta e Publicidade: 1\\n*   Dever de Informação: 5\\n*   Crédito Direto ao Consumidor - CDC: 1\\n*   Concurso de Credores: 1\\n*   Petição intermediária: 4\\n*   Estaduais: 2\\n*   Enriquecimento sem Causa: 1\\n*   Prestação de Serviços: 1\\n*   Inventário e Partilha: 1\\n*   Irregularidade no atendimento: 1\\n*   Contrafação: 1\\n*   Compra e Venda: 2\\n*   Rescisão do contrato e devolução do dinheiro: 1\\n*   Direito Autoral: 1\\n*   Revisão de Tutela Antecipada Antecedente: 1'}], 'role': 'model'}, 'invocation_id': 'e-4fe30c46-c7f4-4f0c-9e0b-118e1511ff78', 'author': 'bq_data_assistant', 'actions': {'state_delta': {}, 'artifact_delta': {}, 'requested_auth_configs': {}}, 'id': 'LscLWt0K', 'timestamp': 1747870717.994378}\n"
     ]
    }
   ],
   "source": [
    "# Query on remote agent for test \n",
    "for event in remote_agent.stream_query(\n",
    "    user_id=\"user_1\",\n",
    "    session_id=session_remote['id'],  \n",
    "    message=\"Quantos processos em 2023 por assunto?\",\n",
    "):\n",
    "   print(event)"
   ]
  },
  {
   "cell_type": "code",
   "execution_count": 56,
   "id": "0f017584",
   "metadata": {},
   "outputs": [
    {
     "name": "stdout",
     "output_type": "stream",
     "text": [
      "Em 2023, a quantidade de processos por assunto é a seguinte:*   DIREITO PROCESSUAL CIVIL E DO TRABALHO: 18*   Liminar: 5*   Atos Administrativos: 1*   Práticas Abusivas: 25*   Responsabilidade do Fornecedor: 17*   Interpretação / Revisão de Contrato: 1*   Indenização por Dano Material: 27*   Indenização por Dano Moral: 29*   Provas em geral: 3*   Proteção de dados pessoais (LGPD): 11*   Perdas e Danos: 5*   Defeito, nulidade ou anulação: 9*   Concorrência desleal: 4*   Marca: 6*   DIREITO CIVIL: 5*   Direito de Imagem: 5*   Obrigações: 8*   Bancários: 1*   Contratos Bancários: 1*   Oferta e Publicidade: 1*   Dever de Informação: 5*   Crédito Direto ao Consumidor - CDC: 1*   Concurso de Credores: 1*   Petição intermediária: 4*   Estaduais: 2*   Enriquecimento sem Causa: 1*   Prestação de Serviços: 1*   Inventário e Partilha: 1*   Irregularidade no atendimento: 1*   Contrafação: 1*   Compra e Venda: 2*   Rescisão do contrato e devolução do dinheiro: 1*   Direito Autoral: 1*   Revisão de Tutela Antecipada Antecedente: 1\n"
     ]
    }
   ],
   "source": [
    "# To view JSON response formatted \n",
    "json_answer = event['content']['parts'][0]['text']\n",
    "\n",
    "# in case that the output doesnt bring a JSON\n",
    "try:  \n",
    "    json_answer = json_answer.replace('```json','').replace('```','').replace('\\n','').replace('\\\\n','') \n",
    "    JSON(json.loads(json_answer))\n",
    "except :\n",
    "    print(json_answer)"
   ]
  },
  {
   "cell_type": "markdown",
   "id": "108873ea",
   "metadata": {},
   "source": [
    "### Deploy Agent on Agentspace\n",
    "\n",
    "This is a temporary step, due the official way to do this still working in progress"
   ]
  },
  {
   "cell_type": "code",
   "execution_count": 57,
   "id": "ccf7115f",
   "metadata": {},
   "outputs": [],
   "source": [
    "import subprocess\n",
    "import json\n",
    "import requests\n",
    "\n",
    "# The ID of your Google Cloud project.\n",
    "project_id = env_vars[\"GOOGLE_CLOUD_PROJECT_ID\"] \n",
    "\n",
    "# The ID of the Agentspace app (see: https://cloud.google.com/agentspace/agentspace-enterprise/docs/assistant ).\n",
    "app_id = \"legal-assistant-poc_1743187751049\"\n",
    "\n",
    "# The display name of the agent.\n",
    "display_name = \"Legal Data Assistant\"\n",
    "\n",
    "# The description of the agent, displayed on the frontend; it is only for the user’s benefit.\n",
    "description = \"Agente especializado em buscar dados estruturados na base de processos\"\n",
    "\n",
    "# The description of the agent used by the LLM to route requests to the agent.\n",
    "# Must properly describe what the agent does. Never shown to the user.\n",
    "tool_description = \"Agent to search legal data on database, used for quantitative questions like, how many, which ones, sum of for legal lawsuits\"\n",
    "\n",
    "# The ID of the reasoning engine endpoint where the ADK agent is deployed (Resource.name).\n",
    "adk_deployment_name = \"projects/41865284455/locations/us-central1/reasoningEngines/1622465746225332224\" # The remote_agent.resource_name Deployed\n",
    " "
   ]
  },
  {
   "cell_type": "code",
   "execution_count": 58,
   "id": "4f05d7b0",
   "metadata": {},
   "outputs": [],
   "source": [
    "# Get the access token from gcloud\n",
    "try:\n",
    "    access_token = subprocess.check_output(\n",
    "        \"gcloud auth print-access-token\", shell=True, text=True\n",
    "    ).strip()\n",
    "except subprocess.CalledProcessError as e:\n",
    "    print(f\"Error getting access token: {e}\")\n",
    "    exit()\n",
    "\n",
    "# API endpoint\n",
    "url = f\"https://discoveryengine.googleapis.com/v1alpha/projects/{project_id}/locations/global/collections/default_collection/engines/{app_id}/assistants/default_assistant/agents\"\n",
    "\n",
    "# Headers\n",
    "headers = {\n",
    "    \"Authorization\": f\"Bearer {access_token}\",\n",
    "    \"Content-Type\": \"application/json\",\n",
    "    \"X-Goog-User-Project\": project_id,\n",
    "}\n",
    "\n",
    "# Data payload\n",
    "data = {\n",
    "    \"displayName\": display_name,\n",
    "    \"description\": description,\n",
    "    \"adk_agent_definition\": {\n",
    "        \"tool_settings\": {\"tool_description\": tool_description},\n",
    "        \"provisioned_reasoning_engine\": {\"reasoning_engine\": adk_deployment_name},\n",
    "    },\n",
    "}"
   ]
  },
  {
   "cell_type": "code",
   "execution_count": 59,
   "id": "a5a4d080",
   "metadata": {},
   "outputs": [
    {
     "name": "stdout",
     "output_type": "stream",
     "text": [
      "Status Code: 200\n",
      "Response JSON: \n",
      "\n"
     ]
    },
    {
     "data": {
      "application/json": {
       "adkAgentDefinition": {
        "provisionedReasoningEngine": {
         "reasoningEngine": "projects/41865284455/locations/us-central1/reasoningEngines/1622465746225332224"
        },
        "toolSettings": {
         "toolDescription": "Agent to search legal data on database, used for quantitative questions like, how many, which ones, sum of for legal lawsuits"
        }
       },
       "description": "Agente especializado em buscar dados estruturados na base de processos",
       "displayName": "Legal Data Assistant",
       "name": "projects/41865284455/locations/global/collections/default_collection/engines/legal-assistant-poc_1743187751049/assistants/default_assistant/agents/6914733408492712680",
       "state": "CONFIGURED"
      },
      "text/plain": [
       "<IPython.core.display.JSON object>"
      ]
     },
     "execution_count": 59,
     "metadata": {
      "application/json": {
       "expanded": false,
       "root": "root"
      }
     },
     "output_type": "execute_result"
    }
   ],
   "source": [
    "# Make the POST request\n",
    "response = requests.post(url, headers=headers, data=json.dumps(data))\n",
    "\n",
    "# Print the response\n",
    "print(f\"Status Code: {response.status_code}\")\n",
    "print(f\"Response JSON: \\n\")\n",
    "JSON(response.json())"
   ]
  }
 ],
 "metadata": {
  "kernelspec": {
   "display_name": ".venv",
   "language": "python",
   "name": "python3"
  },
  "language_info": {
   "codemirror_mode": {
    "name": "ipython",
    "version": 3
   },
   "file_extension": ".py",
   "mimetype": "text/x-python",
   "name": "python",
   "nbconvert_exporter": "python",
   "pygments_lexer": "ipython3",
   "version": "3.11.10"
  }
 },
 "nbformat": 4,
 "nbformat_minor": 5
}
